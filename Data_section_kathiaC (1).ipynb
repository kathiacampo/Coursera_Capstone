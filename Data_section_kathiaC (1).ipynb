{
 "cells": [
  {
   "cell_type": "markdown",
   "metadata": {},
   "source": [
    "<h1>Data Understanding<h1>"
   ]
  },
  {
   "cell_type": "markdown",
   "metadata": {},
   "source": [
    "The data was collected by the Seattle Police Department and Accident Traffic Records Department from 2004 to present.\n",
    "The data consists of 37 independent variables and 194,673 rows. The dependent variable, “SEVERITYCODE”, contains numbers that correspond to different levels of severity caused by an accident from 0 to 4.\n",
    "Severity codes are as follows:"
   ]
  },
  {
   "cell_type": "markdown",
   "metadata": {},
   "source": [
    "0: Little to no Probability (Clear Conditions)\n",
    "1: Very Low Probability — Chance or Property Damage\n",
    "2: Low Probability — Chance of Injury\n",
    "3: Mild Probability — Chance of Serious Injury\n",
    "4: High Probability — Chance of Fatality\n",
    "Furthermore, because of the existence of null values in some records, the data needs to be preprocessed before any further processing.\n"
   ]
  },
  {
   "cell_type": "markdown",
   "metadata": {},
   "source": [
    "<h1> Data Preprocessing<h1>"
   ]
  },
  {
   "cell_type": "markdown",
   "metadata": {},
   "source": [
    "The data in the initial form is not ready for analysis. For this reason, first, we are going to remove the non-relevant columns. In addition to this, many of the features are from object data types that must be converted to numeric data types.\n"
   ]
  },
  {
   "cell_type": "markdown",
   "metadata": {},
   "source": [
    "In analyzing the data set, it has been decided to work with only four characteristics: severity, weather conditions, road conditions and light conditions, \"For now \"."
   ]
  },
  {
   "cell_type": "markdown",
   "metadata": {},
   "source": [
    "In order to understand the data set well, different values have been verified in the characteristics.The results show, the target feature is imbalance, so we use a simple statistical technique to balance it "
   ]
  },
  {
   "cell_type": "code",
   "execution_count": null,
   "metadata": {},
   "outputs": [],
   "source": [
    "pre_df[\"severity code\"].value_counts()"
   ]
  },
  {
   "cell_type": "code",
   "execution_count": null,
   "metadata": {
    "collapsed": true
   },
   "outputs": [],
   "source": []
  }
 ],
 "metadata": {
  "kernelspec": {
   "display_name": "Python 3",
   "language": "python",
   "name": "python3"
  },
  "language_info": {
   "codemirror_mode": {
    "name": "ipython",
    "version": 3
   },
   "file_extension": ".py",
   "mimetype": "text/x-python",
   "name": "python",
   "nbconvert_exporter": "python",
   "pygments_lexer": "ipython3",
   "version": "3.6.1"
  }
 },
 "nbformat": 4,
 "nbformat_minor": 2
}

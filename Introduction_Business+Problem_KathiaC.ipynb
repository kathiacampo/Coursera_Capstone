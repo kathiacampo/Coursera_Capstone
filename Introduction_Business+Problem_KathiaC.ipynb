{
 "cells": [
  {
   "cell_type": "markdown",
   "metadata": {},
   "source": [
    "<h1> Introduction | Business Undertanding <h1>"
   ]
  },
  {
   "cell_type": "markdown",
   "metadata": {},
   "source": [
    "\"According to the World Health Organization, the United States ranks 41st among the 52 highest-income nations in terms of traffic fatalities, surpassed only by Qatar, Saudi Arabia and Russia. It is also \"now the most dangerous rich country in which a child can be born,\" concluded a new report published by Health Affairs magazine, based in part on the high risk of a young person dying after a car accident. . Among American teens between the ages of 15 and 19, car accidents rank as the leading cause of death.\n",
    "\n",
    "It didn't use to be this way: Before the 1980s, the United States was at the forefront of driving safety, outperforming several wealthy countries. Today, the traffic accident fatality rate in the US, per 100,000 inhabitants, is almost double that of Canada and Australia, and is almost three and a half times that of the United Kingdom. Slovenia, Italy and Greece are also doing better\" Bliss,L(2018,13 March) The highway crisis in the US: high mortality and poor safety Retrieved from https://www.univision.com/noticias/citylab-transporte/la-crisis-de-las-autopistas-en-eeuu-alta-mortalidad-y-escasa-seguridad\n",
    "\n",
    "In order to reduce the frequency of car collisions in the US and making use of artificial intelligence, an algorithm will be developed to predict the severity of an accident given the weather, road and visibility conditions taken from a data frame."
   ]
  },
  {
   "cell_type": "code",
   "execution_count": null,
   "metadata": {
    "collapsed": true
   },
   "outputs": [],
   "source": []
  }
 ],
 "metadata": {
  "kernelspec": {
   "display_name": "Python 3",
   "language": "python",
   "name": "python3"
  },
  "language_info": {
   "codemirror_mode": {
    "name": "ipython",
    "version": 3
   },
   "file_extension": ".py",
   "mimetype": "text/x-python",
   "name": "python",
   "nbconvert_exporter": "python",
   "pygments_lexer": "ipython3",
   "version": "3.6.1"
  }
 },
 "nbformat": 4,
 "nbformat_minor": 2
}
